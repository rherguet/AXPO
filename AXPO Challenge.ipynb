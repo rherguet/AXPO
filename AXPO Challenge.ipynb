{
 "cells": [
  {
   "cell_type": "markdown",
   "metadata": {},
   "source": [
    "# AXPO DATA OPS ENGINEER INTERNSHIP PROBLEM SET"
   ]
  },
  {
   "cell_type": "markdown",
   "metadata": {},
   "source": [
    "## PART ONE - ETL PIPELINE"
   ]
  },
  {
   "cell_type": "markdown",
   "metadata": {},
   "source": [
    "We aim to extract, transform, and load data from the Spanish power market.\n",
    "This data is accessible via the public API of ESIOS.\n",
    "To send valid data requests to the ESIOS API, use the following token. If\n",
    "you encounter issues requesting data from the API, please let us know.\n",
    "\n",
    "Token: ca757527cb8381ad315cd72b02a0176f8842fa5b548d99e14f4de46f61bcb17a"
   ]
  },
  {
   "cell_type": "markdown",
   "metadata": {},
   "source": [
    "### EXTRACT"
   ]
  },
  {
   "cell_type": "markdown",
   "metadata": {},
   "source": [
    "Load the following indicators from 2020-01-01 to 2021-12-31:\n",
    "\n",
    "    - Power demand forecast (indicator 460)\n",
    "    - Power demand real (indicator 1293)\n",
    "    - Nuclear power availability (indicator 474)\n",
    "\n",
    "Refer to the IDs in parentheses to request the specific data from the ESIOS\n",
    "API."
   ]
  },
  {
   "cell_type": "code",
   "execution_count": 1,
   "metadata": {},
   "outputs": [
    {
     "name": "stdout",
     "output_type": "stream",
     "text": [
      "Requirement already satisfied: requests in c:\\users\\pc\\appdata\\local\\programs\\python\\python311\\lib\\site-packages (2.31.0)\n",
      "Requirement already satisfied: charset-normalizer<4,>=2 in c:\\users\\pc\\appdata\\local\\programs\\python\\python311\\lib\\site-packages (from requests) (3.2.0)\n",
      "Requirement already satisfied: idna<4,>=2.5 in c:\\users\\pc\\appdata\\local\\programs\\python\\python311\\lib\\site-packages (from requests) (3.4)\n",
      "Requirement already satisfied: urllib3<3,>=1.21.1 in c:\\users\\pc\\appdata\\local\\programs\\python\\python311\\lib\\site-packages (from requests) (2.0.4)\n",
      "Requirement already satisfied: certifi>=2017.4.17 in c:\\users\\pc\\appdata\\local\\programs\\python\\python311\\lib\\site-packages (from requests) (2023.7.22)\n",
      "Note: you may need to restart the kernel to use updated packages.\n"
     ]
    }
   ],
   "source": [
    "pip install requests"
   ]
  },
  {
   "cell_type": "code",
   "execution_count": 2,
   "metadata": {},
   "outputs": [
    {
     "name": "stdout",
     "output_type": "stream",
     "text": [
      "Requirement already satisfied: pip in c:\\users\\pc\\appdata\\local\\programs\\python\\python311\\lib\\site-packages (24.2)Note: you may need to restart the kernel to use updated packages.\n",
      "\n"
     ]
    }
   ],
   "source": [
    "pip install --upgrade pip"
   ]
  },
  {
   "cell_type": "code",
   "execution_count": 3,
   "metadata": {},
   "outputs": [
    {
     "data": {
      "text/html": [
       "<div>\n",
       "<style scoped>\n",
       "    .dataframe tbody tr th:only-of-type {\n",
       "        vertical-align: middle;\n",
       "    }\n",
       "\n",
       "    .dataframe tbody tr th {\n",
       "        vertical-align: top;\n",
       "    }\n",
       "\n",
       "    .dataframe thead th {\n",
       "        text-align: right;\n",
       "    }\n",
       "</style>\n",
       "<table border=\"1\" class=\"dataframe\">\n",
       "  <thead>\n",
       "    <tr style=\"text-align: right;\">\n",
       "      <th></th>\n",
       "      <th>value</th>\n",
       "      <th>datetime</th>\n",
       "      <th>datetime_utc</th>\n",
       "      <th>tz_time</th>\n",
       "      <th>geo_id</th>\n",
       "      <th>geo_name</th>\n",
       "    </tr>\n",
       "  </thead>\n",
       "  <tbody>\n",
       "    <tr>\n",
       "      <th>0</th>\n",
       "      <td>22519.0</td>\n",
       "      <td>2020-01-01T01:00:00.000+01:00</td>\n",
       "      <td>2020-01-01T00:00:00Z</td>\n",
       "      <td>2020-01-01T00:00:00.000Z</td>\n",
       "      <td>8741</td>\n",
       "      <td>Península</td>\n",
       "    </tr>\n",
       "    <tr>\n",
       "      <th>1</th>\n",
       "      <td>21222.0</td>\n",
       "      <td>2020-01-01T02:00:00.000+01:00</td>\n",
       "      <td>2020-01-01T01:00:00Z</td>\n",
       "      <td>2020-01-01T01:00:00.000Z</td>\n",
       "      <td>8741</td>\n",
       "      <td>Península</td>\n",
       "    </tr>\n",
       "    <tr>\n",
       "      <th>2</th>\n",
       "      <td>19900.0</td>\n",
       "      <td>2020-01-01T03:00:00.000+01:00</td>\n",
       "      <td>2020-01-01T02:00:00Z</td>\n",
       "      <td>2020-01-01T02:00:00.000Z</td>\n",
       "      <td>8741</td>\n",
       "      <td>Península</td>\n",
       "    </tr>\n",
       "    <tr>\n",
       "      <th>3</th>\n",
       "      <td>18998.0</td>\n",
       "      <td>2020-01-01T04:00:00.000+01:00</td>\n",
       "      <td>2020-01-01T03:00:00Z</td>\n",
       "      <td>2020-01-01T03:00:00.000Z</td>\n",
       "      <td>8741</td>\n",
       "      <td>Península</td>\n",
       "    </tr>\n",
       "    <tr>\n",
       "      <th>4</th>\n",
       "      <td>18849.0</td>\n",
       "      <td>2020-01-01T05:00:00.000+01:00</td>\n",
       "      <td>2020-01-01T04:00:00Z</td>\n",
       "      <td>2020-01-01T04:00:00.000Z</td>\n",
       "      <td>8741</td>\n",
       "      <td>Península</td>\n",
       "    </tr>\n",
       "    <tr>\n",
       "      <th>...</th>\n",
       "      <td>...</td>\n",
       "      <td>...</td>\n",
       "      <td>...</td>\n",
       "      <td>...</td>\n",
       "      <td>...</td>\n",
       "      <td>...</td>\n",
       "    </tr>\n",
       "    <tr>\n",
       "      <th>17539</th>\n",
       "      <td>27283.0</td>\n",
       "      <td>2021-12-31T20:00:00.000+01:00</td>\n",
       "      <td>2021-12-31T19:00:00Z</td>\n",
       "      <td>2021-12-31T19:00:00.000Z</td>\n",
       "      <td>8741</td>\n",
       "      <td>Península</td>\n",
       "    </tr>\n",
       "    <tr>\n",
       "      <th>17540</th>\n",
       "      <td>25723.0</td>\n",
       "      <td>2021-12-31T21:00:00.000+01:00</td>\n",
       "      <td>2021-12-31T20:00:00Z</td>\n",
       "      <td>2021-12-31T20:00:00.000Z</td>\n",
       "      <td>8741</td>\n",
       "      <td>Península</td>\n",
       "    </tr>\n",
       "    <tr>\n",
       "      <th>17541</th>\n",
       "      <td>23338.0</td>\n",
       "      <td>2021-12-31T22:00:00.000+01:00</td>\n",
       "      <td>2021-12-31T21:00:00Z</td>\n",
       "      <td>2021-12-31T21:00:00.000Z</td>\n",
       "      <td>8741</td>\n",
       "      <td>Península</td>\n",
       "    </tr>\n",
       "    <tr>\n",
       "      <th>17542</th>\n",
       "      <td>22102.0</td>\n",
       "      <td>2021-12-31T23:00:00.000+01:00</td>\n",
       "      <td>2021-12-31T22:00:00Z</td>\n",
       "      <td>2021-12-31T22:00:00.000Z</td>\n",
       "      <td>8741</td>\n",
       "      <td>Península</td>\n",
       "    </tr>\n",
       "    <tr>\n",
       "      <th>17543</th>\n",
       "      <td>22339.0</td>\n",
       "      <td>2022-01-01T00:00:00.000+01:00</td>\n",
       "      <td>2021-12-31T23:00:00Z</td>\n",
       "      <td>2021-12-31T23:00:00.000Z</td>\n",
       "      <td>8741</td>\n",
       "      <td>Península</td>\n",
       "    </tr>\n",
       "  </tbody>\n",
       "</table>\n",
       "<p>17544 rows × 6 columns</p>\n",
       "</div>"
      ],
      "text/plain": [
       "         value                       datetime          datetime_utc  \\\n",
       "0      22519.0  2020-01-01T01:00:00.000+01:00  2020-01-01T00:00:00Z   \n",
       "1      21222.0  2020-01-01T02:00:00.000+01:00  2020-01-01T01:00:00Z   \n",
       "2      19900.0  2020-01-01T03:00:00.000+01:00  2020-01-01T02:00:00Z   \n",
       "3      18998.0  2020-01-01T04:00:00.000+01:00  2020-01-01T03:00:00Z   \n",
       "4      18849.0  2020-01-01T05:00:00.000+01:00  2020-01-01T04:00:00Z   \n",
       "...        ...                            ...                   ...   \n",
       "17539  27283.0  2021-12-31T20:00:00.000+01:00  2021-12-31T19:00:00Z   \n",
       "17540  25723.0  2021-12-31T21:00:00.000+01:00  2021-12-31T20:00:00Z   \n",
       "17541  23338.0  2021-12-31T22:00:00.000+01:00  2021-12-31T21:00:00Z   \n",
       "17542  22102.0  2021-12-31T23:00:00.000+01:00  2021-12-31T22:00:00Z   \n",
       "17543  22339.0  2022-01-01T00:00:00.000+01:00  2021-12-31T23:00:00Z   \n",
       "\n",
       "                        tz_time  geo_id   geo_name  \n",
       "0      2020-01-01T00:00:00.000Z    8741  Península  \n",
       "1      2020-01-01T01:00:00.000Z    8741  Península  \n",
       "2      2020-01-01T02:00:00.000Z    8741  Península  \n",
       "3      2020-01-01T03:00:00.000Z    8741  Península  \n",
       "4      2020-01-01T04:00:00.000Z    8741  Península  \n",
       "...                         ...     ...        ...  \n",
       "17539  2021-12-31T19:00:00.000Z    8741  Península  \n",
       "17540  2021-12-31T20:00:00.000Z    8741  Península  \n",
       "17541  2021-12-31T21:00:00.000Z    8741  Península  \n",
       "17542  2021-12-31T22:00:00.000Z    8741  Península  \n",
       "17543  2021-12-31T23:00:00.000Z    8741  Península  \n",
       "\n",
       "[17544 rows x 6 columns]"
      ]
     },
     "metadata": {},
     "output_type": "display_data"
    }
   ],
   "source": [
    "import requests\n",
    "import pandas as pd\n",
    "\n",
    "# Define the endpoint URL and parameters\n",
    "url = \"https://api.esios.ree.es/indicators/460\"\n",
    "headers = {\n",
    "    \"Accept\": \"application/json; application/vnd.esios-api-v1+json\",\n",
    "    \"Content-Type\": \"application/json\",\n",
    "    \"x-api-key\": \"ca757527cb8381ad315cd72b02a0176f8842fa5b548d99e14f4de46f61bcb17a\"\n",
    "}\n",
    "\n",
    "# Define the query parameters\n",
    "params = {\n",
    "    \"start_date\": \"2020-01-01T00:00:00Z\",\n",
    "    \"end_date\": \"2021-12-31T23:59:59Z\"\n",
    "}\n",
    "\n",
    "# Make the GET request\n",
    "response = requests.get(url, headers=headers, params=params)\n",
    "\n",
    "# Check if the request was successful\n",
    "if response.status_code == 200:\n",
    "    # Load the JSON response\n",
    "    data = response.json()\n",
    "    \n",
    "    # Inspect the structure of the JSON to find where the relevant data is stored\n",
    "    # Let's assume the data we want is in data['indicator']['values']\n",
    "    indicator_data = data.get('indicator', {}).get('values', [])\n",
    "    \n",
    "    # Check if there is data\n",
    "    if indicator_data:\n",
    "        # Convert the list of dictionaries to a DataFrame\n",
    "        df = pd.DataFrame(indicator_data)\n",
    "        \n",
    "        # Display the DataFrame\n",
    "        display(df)\n",
    "    else:\n",
    "        print(\"No data available for the specified time period.\")\n",
    "else:\n",
    "    print(f\"Error: Unable to fetch data. Status code {response.status_code}\")\n",
    "\n"
   ]
  },
  {
   "cell_type": "code",
   "execution_count": 4,
   "metadata": {},
   "outputs": [
    {
     "name": "stdout",
     "output_type": "stream",
     "text": [
      "Error: Unable to fetch data. Status code 504\n"
     ]
    }
   ],
   "source": [
    "import requests\n",
    "import pandas as pd\n",
    "\n",
    "# Define the endpoint URL and parameters\n",
    "url = \"https://api.esios.ree.es/indicators/1293\"\n",
    "headers = {\n",
    "    \"Accept\": \"application/json; application/vnd.esios-api-v1+json\",\n",
    "    \"Content-Type\": \"application/json\",\n",
    "    \"x-api-key\": \"ca757527cb8381ad315cd72b02a0176f8842fa5b548d99e14f4de46f61bcb17a\"\n",
    "}\n",
    "\n",
    "# Define the query parameters\n",
    "params = {\n",
    "    \"start_date\": \"2020-01-01T00:00:00Z\",\n",
    "    \"end_date\": \"2021-12-31T23:59:59Z\"\n",
    "}\n",
    "\n",
    "# Make the GET request\n",
    "response = requests.get(url, headers=headers, params=params)\n",
    "\n",
    "# Check if the request was successful\n",
    "if response.status_code == 200:\n",
    "    # Load the JSON response\n",
    "    data = response.json()\n",
    "    \n",
    "    # Inspect the structure of the JSON to find where the relevant data is stored\n",
    "    # Let's assume the data we want is in data['indicator']['values']\n",
    "    indicator_data = data.get('indicator', {}).get('values', [])\n",
    "    \n",
    "    # Check if there is data\n",
    "    if indicator_data:\n",
    "        # Convert the list of dictionaries to a DataFrame\n",
    "        df = pd.DataFrame(indicator_data)\n",
    "        \n",
    "        # Display the DataFrame\n",
    "        display(df)\n",
    "    else:\n",
    "        print(\"No data available for the specified time period.\")\n",
    "else:\n",
    "    print(f\"Error: Unable to fetch data. Status code {response.status_code}\")\n",
    "\n"
   ]
  },
  {
   "cell_type": "code",
   "execution_count": 5,
   "metadata": {},
   "outputs": [
    {
     "name": "stdout",
     "output_type": "stream",
     "text": [
      "Error: Unable to fetch data. Status code 504\n"
     ]
    }
   ],
   "source": [
    "import requests\n",
    "import pandas as pd\n",
    "\n",
    "# Define the endpoint URL and parameters\n",
    "url = \"https://api.esios.ree.es/indicators/474\"\n",
    "headers = {\n",
    "    \"Accept\": \"application/json; application/vnd.esios-api-v1+json\",\n",
    "    \"Content-Type\": \"application/json\",\n",
    "    \"x-api-key\": \"ca757527cb8381ad315cd72b02a0176f8842fa5b548d99e14f4de46f61bcb17a\"\n",
    "}\n",
    "\n",
    "# Define the query parameters\n",
    "params = {\n",
    "    \"start_date\": \"2020-01-01T00:00:00Z\",\n",
    "    \"end_date\": \"2021-12-31T23:59:59Z\"\n",
    "}\n",
    "\n",
    "# Make the GET request\n",
    "response = requests.get(url, headers=headers, params=params)\n",
    "\n",
    "# Check if the request was successful\n",
    "if response.status_code == 200:\n",
    "    # Load the JSON response\n",
    "    data = response.json()\n",
    "    \n",
    "    # Inspect the structure of the JSON to find where the relevant data is stored\n",
    "    # Let's assume the data we want is in data['indicator']['values']\n",
    "    indicator_data = data.get('indicator', {}).get('values', [])\n",
    "    \n",
    "    # Check if there is data\n",
    "    if indicator_data:\n",
    "        # Convert the list of dictionaries to a DataFrame\n",
    "        df = pd.DataFrame(indicator_data)\n",
    "        \n",
    "        # Display the DataFrame\n",
    "        display(df)\n",
    "    else:\n",
    "        print(\"No data available for the specified time period.\")\n",
    "else:\n",
    "    print(f\"Error: Unable to fetch data. Status code {response.status_code}\")\n",
    "\n"
   ]
  },
  {
   "cell_type": "markdown",
   "metadata": {},
   "source": [
    "## PART TWO - PLATFORM DESIGN"
   ]
  },
  {
   "cell_type": "code",
   "execution_count": null,
   "metadata": {},
   "outputs": [],
   "source": []
  }
 ],
 "metadata": {
  "kernelspec": {
   "display_name": "Python 3",
   "language": "python",
   "name": "python3"
  },
  "language_info": {
   "codemirror_mode": {
    "name": "ipython",
    "version": 3
   },
   "file_extension": ".py",
   "mimetype": "text/x-python",
   "name": "python",
   "nbconvert_exporter": "python",
   "pygments_lexer": "ipython3",
   "version": "3.11.0"
  }
 },
 "nbformat": 4,
 "nbformat_minor": 2
}
