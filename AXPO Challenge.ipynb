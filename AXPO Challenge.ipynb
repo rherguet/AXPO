{
 "cells": [
  {
   "cell_type": "markdown",
   "metadata": {},
   "source": [
    "# AXPO DATA OPS ENGINEER INTERNSHIP PROBLEM SET"
   ]
  },
  {
   "cell_type": "markdown",
   "metadata": {},
   "source": [
    "## PART ONE - ETL PIPELINE"
   ]
  },
  {
   "cell_type": "markdown",
   "metadata": {},
   "source": [
    "We aim to extract, transform, and load data from the Spanish power market.\n",
    "This data is accessible via the public API of ESIOS.\n",
    "To send valid data requests to the ESIOS API, use the following token. If\n",
    "you encounter issues requesting data from the API, please let us know.\n",
    "\n",
    "Token: ca757527cb8381ad315cd72b02a0176f8842fa5b548d99e14f4de46f61bcb17a"
   ]
  },
  {
   "cell_type": "markdown",
   "metadata": {},
   "source": [
    "### LIBRARIES AND REQUIREMENTS"
   ]
  },
  {
   "cell_type": "code",
   "execution_count": 1,
   "metadata": {},
   "outputs": [
    {
     "name": "stdout",
     "output_type": "stream",
     "text": [
      "Requirement already satisfied: pip in c:\\users\\pc\\appdata\\local\\programs\\python\\python311\\lib\\site-packages (24.2)\n",
      "Note: you may need to restart the kernel to use updated packages.\n"
     ]
    }
   ],
   "source": [
    "pip install --upgrade pip"
   ]
  },
  {
   "cell_type": "code",
   "execution_count": 2,
   "metadata": {},
   "outputs": [
    {
     "name": "stdout",
     "output_type": "stream",
     "text": [
      "Requirement already satisfied: requests in c:\\users\\pc\\appdata\\local\\programs\\python\\python311\\lib\\site-packages (2.31.0)\n",
      "Requirement already satisfied: charset-normalizer<4,>=2 in c:\\users\\pc\\appdata\\local\\programs\\python\\python311\\lib\\site-packages (from requests) (3.2.0)\n",
      "Requirement already satisfied: idna<4,>=2.5 in c:\\users\\pc\\appdata\\local\\programs\\python\\python311\\lib\\site-packages (from requests) (3.4)\n",
      "Requirement already satisfied: urllib3<3,>=1.21.1 in c:\\users\\pc\\appdata\\local\\programs\\python\\python311\\lib\\site-packages (from requests) (2.0.4)\n",
      "Requirement already satisfied: certifi>=2017.4.17 in c:\\users\\pc\\appdata\\local\\programs\\python\\python311\\lib\\site-packages (from requests) (2023.7.22)\n",
      "Note: you may need to restart the kernel to use updated packages.\n"
     ]
    }
   ],
   "source": [
    "pip install requests"
   ]
  },
  {
   "cell_type": "code",
   "execution_count": 3,
   "metadata": {},
   "outputs": [],
   "source": [
    "# LIBRARIES\n",
    "\n",
    "import requests\n",
    "import pandas as pd\n",
    "import numpy as np"
   ]
  },
  {
   "cell_type": "markdown",
   "metadata": {},
   "source": [
    "### EXTRACT"
   ]
  },
  {
   "cell_type": "markdown",
   "metadata": {},
   "source": [
    "Load the following indicators from 2020-01-01 to 2021-12-31:\n",
    "\n",
    "    - Power demand forecast (indicator 460)\n",
    "    - Power demand real (indicator 1293)\n",
    "    - Nuclear power availability (indicator 474)\n",
    "\n",
    "Refer to the IDs in parentheses to request the specific data from the ESIOS\n",
    "API."
   ]
  },
  {
   "cell_type": "markdown",
   "metadata": {},
   "source": [
    "#### Power demand forecast"
   ]
  },
  {
   "cell_type": "code",
   "execution_count": 4,
   "metadata": {},
   "outputs": [
    {
     "data": {
      "text/html": [
       "<div>\n",
       "<style scoped>\n",
       "    .dataframe tbody tr th:only-of-type {\n",
       "        vertical-align: middle;\n",
       "    }\n",
       "\n",
       "    .dataframe tbody tr th {\n",
       "        vertical-align: top;\n",
       "    }\n",
       "\n",
       "    .dataframe thead th {\n",
       "        text-align: right;\n",
       "    }\n",
       "</style>\n",
       "<table border=\"1\" class=\"dataframe\">\n",
       "  <thead>\n",
       "    <tr style=\"text-align: right;\">\n",
       "      <th></th>\n",
       "      <th>value</th>\n",
       "      <th>datetime</th>\n",
       "      <th>datetime_utc</th>\n",
       "      <th>tz_time</th>\n",
       "      <th>geo_id</th>\n",
       "      <th>geo_name</th>\n",
       "    </tr>\n",
       "  </thead>\n",
       "  <tbody>\n",
       "    <tr>\n",
       "      <th>0</th>\n",
       "      <td>22519.0</td>\n",
       "      <td>2020-01-01T01:00:00.000+01:00</td>\n",
       "      <td>2020-01-01T00:00:00Z</td>\n",
       "      <td>2020-01-01T00:00:00.000Z</td>\n",
       "      <td>8741</td>\n",
       "      <td>Península</td>\n",
       "    </tr>\n",
       "    <tr>\n",
       "      <th>1</th>\n",
       "      <td>21222.0</td>\n",
       "      <td>2020-01-01T02:00:00.000+01:00</td>\n",
       "      <td>2020-01-01T01:00:00Z</td>\n",
       "      <td>2020-01-01T01:00:00.000Z</td>\n",
       "      <td>8741</td>\n",
       "      <td>Península</td>\n",
       "    </tr>\n",
       "    <tr>\n",
       "      <th>2</th>\n",
       "      <td>19900.0</td>\n",
       "      <td>2020-01-01T03:00:00.000+01:00</td>\n",
       "      <td>2020-01-01T02:00:00Z</td>\n",
       "      <td>2020-01-01T02:00:00.000Z</td>\n",
       "      <td>8741</td>\n",
       "      <td>Península</td>\n",
       "    </tr>\n",
       "    <tr>\n",
       "      <th>3</th>\n",
       "      <td>18998.0</td>\n",
       "      <td>2020-01-01T04:00:00.000+01:00</td>\n",
       "      <td>2020-01-01T03:00:00Z</td>\n",
       "      <td>2020-01-01T03:00:00.000Z</td>\n",
       "      <td>8741</td>\n",
       "      <td>Península</td>\n",
       "    </tr>\n",
       "    <tr>\n",
       "      <th>4</th>\n",
       "      <td>18849.0</td>\n",
       "      <td>2020-01-01T05:00:00.000+01:00</td>\n",
       "      <td>2020-01-01T04:00:00Z</td>\n",
       "      <td>2020-01-01T04:00:00.000Z</td>\n",
       "      <td>8741</td>\n",
       "      <td>Península</td>\n",
       "    </tr>\n",
       "    <tr>\n",
       "      <th>...</th>\n",
       "      <td>...</td>\n",
       "      <td>...</td>\n",
       "      <td>...</td>\n",
       "      <td>...</td>\n",
       "      <td>...</td>\n",
       "      <td>...</td>\n",
       "    </tr>\n",
       "    <tr>\n",
       "      <th>17539</th>\n",
       "      <td>27283.0</td>\n",
       "      <td>2021-12-31T20:00:00.000+01:00</td>\n",
       "      <td>2021-12-31T19:00:00Z</td>\n",
       "      <td>2021-12-31T19:00:00.000Z</td>\n",
       "      <td>8741</td>\n",
       "      <td>Península</td>\n",
       "    </tr>\n",
       "    <tr>\n",
       "      <th>17540</th>\n",
       "      <td>25723.0</td>\n",
       "      <td>2021-12-31T21:00:00.000+01:00</td>\n",
       "      <td>2021-12-31T20:00:00Z</td>\n",
       "      <td>2021-12-31T20:00:00.000Z</td>\n",
       "      <td>8741</td>\n",
       "      <td>Península</td>\n",
       "    </tr>\n",
       "    <tr>\n",
       "      <th>17541</th>\n",
       "      <td>23338.0</td>\n",
       "      <td>2021-12-31T22:00:00.000+01:00</td>\n",
       "      <td>2021-12-31T21:00:00Z</td>\n",
       "      <td>2021-12-31T21:00:00.000Z</td>\n",
       "      <td>8741</td>\n",
       "      <td>Península</td>\n",
       "    </tr>\n",
       "    <tr>\n",
       "      <th>17542</th>\n",
       "      <td>22102.0</td>\n",
       "      <td>2021-12-31T23:00:00.000+01:00</td>\n",
       "      <td>2021-12-31T22:00:00Z</td>\n",
       "      <td>2021-12-31T22:00:00.000Z</td>\n",
       "      <td>8741</td>\n",
       "      <td>Península</td>\n",
       "    </tr>\n",
       "    <tr>\n",
       "      <th>17543</th>\n",
       "      <td>22339.0</td>\n",
       "      <td>2022-01-01T00:00:00.000+01:00</td>\n",
       "      <td>2021-12-31T23:00:00Z</td>\n",
       "      <td>2021-12-31T23:00:00.000Z</td>\n",
       "      <td>8741</td>\n",
       "      <td>Península</td>\n",
       "    </tr>\n",
       "  </tbody>\n",
       "</table>\n",
       "<p>17544 rows × 6 columns</p>\n",
       "</div>"
      ],
      "text/plain": [
       "         value                       datetime          datetime_utc  \\\n",
       "0      22519.0  2020-01-01T01:00:00.000+01:00  2020-01-01T00:00:00Z   \n",
       "1      21222.0  2020-01-01T02:00:00.000+01:00  2020-01-01T01:00:00Z   \n",
       "2      19900.0  2020-01-01T03:00:00.000+01:00  2020-01-01T02:00:00Z   \n",
       "3      18998.0  2020-01-01T04:00:00.000+01:00  2020-01-01T03:00:00Z   \n",
       "4      18849.0  2020-01-01T05:00:00.000+01:00  2020-01-01T04:00:00Z   \n",
       "...        ...                            ...                   ...   \n",
       "17539  27283.0  2021-12-31T20:00:00.000+01:00  2021-12-31T19:00:00Z   \n",
       "17540  25723.0  2021-12-31T21:00:00.000+01:00  2021-12-31T20:00:00Z   \n",
       "17541  23338.0  2021-12-31T22:00:00.000+01:00  2021-12-31T21:00:00Z   \n",
       "17542  22102.0  2021-12-31T23:00:00.000+01:00  2021-12-31T22:00:00Z   \n",
       "17543  22339.0  2022-01-01T00:00:00.000+01:00  2021-12-31T23:00:00Z   \n",
       "\n",
       "                        tz_time  geo_id   geo_name  \n",
       "0      2020-01-01T00:00:00.000Z    8741  Península  \n",
       "1      2020-01-01T01:00:00.000Z    8741  Península  \n",
       "2      2020-01-01T02:00:00.000Z    8741  Península  \n",
       "3      2020-01-01T03:00:00.000Z    8741  Península  \n",
       "4      2020-01-01T04:00:00.000Z    8741  Península  \n",
       "...                         ...     ...        ...  \n",
       "17539  2021-12-31T19:00:00.000Z    8741  Península  \n",
       "17540  2021-12-31T20:00:00.000Z    8741  Península  \n",
       "17541  2021-12-31T21:00:00.000Z    8741  Península  \n",
       "17542  2021-12-31T22:00:00.000Z    8741  Península  \n",
       "17543  2021-12-31T23:00:00.000Z    8741  Península  \n",
       "\n",
       "[17544 rows x 6 columns]"
      ]
     },
     "metadata": {},
     "output_type": "display_data"
    }
   ],
   "source": [
    "# API URL\n",
    "url = \"https://api.esios.ree.es/indicators/460\"\n",
    "\n",
    "# HEADERS\n",
    "headers = {\n",
    "    \"Accept\": \"application/json; application/vnd.esios-api-v1+json\",\n",
    "    \"Content-Type\": \"application/json\",\n",
    "    \"x-api-key\": \"ca757527cb8381ad315cd72b02a0176f8842fa5b548d99e14f4de46f61bcb17a\"\n",
    "}\n",
    "\n",
    "# PARAMETERS\n",
    "params = {\n",
    "    \"start_date\": \"2020-01-01T00:00:00Z\",\n",
    "    \"end_date\": \"2021-12-31T23:59:59Z\"\n",
    "}\n",
    "\n",
    "# GET REQUEST\n",
    "response = requests.get(url, headers=headers, params=params)\n",
    "\n",
    "# CORRECTNESS CHECKING AND JSON\n",
    "if response.status_code == 200:\n",
    "    # Load the JSON response\n",
    "    data = response.json()\n",
    "    \n",
    "    # Inspect the structure of the JSON to find where the relevant data is stored\n",
    "    # Let's assume the data we want is in data['indicator']['values']\n",
    "    indicator_data = data.get('indicator', {}).get('values', [])\n",
    "    \n",
    "    # Check if there is data\n",
    "    if indicator_data:\n",
    "        # Convert the list of dictionaries to a DataFrame\n",
    "        df_forecast = pd.DataFrame(indicator_data)\n",
    "        \n",
    "        # Display the DataFrame\n",
    "        display(df_forecast)\n",
    "    else:\n",
    "        print(\"No data available for the specified time period.\")\n",
    "else:\n",
    "    print(f\"Error: Unable to fetch data. Status code {response.status_code}\")"
   ]
  },
  {
   "cell_type": "markdown",
   "metadata": {},
   "source": [
    "To be able to transform datetime later we need to know if there are different time zones in the df. \n",
    "If we had for example non-peninsular time stamps we might need to keep it in mind"
   ]
  },
  {
   "cell_type": "code",
   "execution_count": 5,
   "metadata": {},
   "outputs": [
    {
     "name": "stdout",
     "output_type": "stream",
     "text": [
      "['Península']\n"
     ]
    }
   ],
   "source": [
    "# Check time zones\n",
    "\n",
    "forecast_time_zones = df_forecast['geo_name'].unique()\n",
    "\n",
    "print(forecast_time_zones)"
   ]
  },
  {
   "cell_type": "code",
   "execution_count": 6,
   "metadata": {},
   "outputs": [
    {
     "name": "stdout",
     "output_type": "stream",
     "text": [
      "object\n"
     ]
    }
   ],
   "source": [
    "# Check which type of data we have in datetime\n",
    "\n",
    "date_type = df_forecast['datetime'].dtypes\n",
    "\n",
    "print(date_type)"
   ]
  },
  {
   "cell_type": "markdown",
   "metadata": {},
   "source": [
    "#### Power demand real"
   ]
  },
  {
   "cell_type": "code",
   "execution_count": 7,
   "metadata": {},
   "outputs": [
    {
     "name": "stdout",
     "output_type": "stream",
     "text": [
      "Error: Unable to fetch data. Status code 504\n"
     ]
    }
   ],
   "source": [
    "# API URL\n",
    "url = \"https://api.esios.ree.es/indicators/1293\"\n",
    "\n",
    "# HEADERS\n",
    "headers = {\n",
    "    \"Accept\": \"application/json; application/vnd.esios-api-v1+json\",\n",
    "    \"Content-Type\": \"application/json\",\n",
    "    \"x-api-key\": \"ca757527cb8381ad315cd72b02a0176f8842fa5b548d99e14f4de46f61bcb17a\"\n",
    "}\n",
    "\n",
    "# PARAMETERS\n",
    "params = {\n",
    "    \"start_date\": \"2020-01-01T00:00:00Z\",\n",
    "    \"end_date\": \"2021-12-31T23:59:59Z\"\n",
    "}\n",
    "\n",
    "# GET REQUEST\n",
    "response = requests.get(url, headers=headers, params=params)\n",
    "\n",
    "# CORRECTNESS CHECKING AND JSON\n",
    "if response.status_code == 200:\n",
    "    # Load the JSON response\n",
    "    data = response.json()\n",
    "    \n",
    "    # Inspect the structure of the JSON to find where the relevant data is stored\n",
    "    # Let's assume the data we want is in data['indicator']['values']\n",
    "    indicator_data = data.get('indicator', {}).get('values', [])\n",
    "    \n",
    "    # Check if there is data\n",
    "    if indicator_data:\n",
    "        # Convert the list of dictionaries to a DataFrame\n",
    "        df_forecast = pd.DataFrame(indicator_data)\n",
    "        \n",
    "        # Display the DataFrame\n",
    "        display(df_forecast)\n",
    "    else:\n",
    "        print(\"No data available for the specified time period.\")\n",
    "else:\n",
    "    print(f\"Error: Unable to fetch data. Status code {response.status_code}\")"
   ]
  },
  {
   "cell_type": "markdown",
   "metadata": {},
   "source": [
    "Given that we can't access the data, we will use the same data from indicator 460, and later we will multiply the values by a random number between 0 and 2 to obtain different values for the next step of tranforming the data."
   ]
  },
  {
   "cell_type": "code",
   "execution_count": 8,
   "metadata": {},
   "outputs": [],
   "source": [
    "# Copy our df_frorecast\n",
    "df_real = df_forecast.copy()"
   ]
  },
  {
   "cell_type": "markdown",
   "metadata": {},
   "source": [
    "#### Nuclear power availability"
   ]
  },
  {
   "cell_type": "code",
   "execution_count": 9,
   "metadata": {},
   "outputs": [
    {
     "name": "stdout",
     "output_type": "stream",
     "text": [
      "Error: Unable to fetch data. Status code 504\n"
     ]
    }
   ],
   "source": [
    "# API URL\n",
    "url = \"https://api.esios.ree.es/indicators/474\"\n",
    "\n",
    "# HEADERS\n",
    "headers = {\n",
    "    \"Accept\": \"application/json; application/vnd.esios-api-v1+json\",\n",
    "    \"Content-Type\": \"application/json\",\n",
    "    \"x-api-key\": \"ca757527cb8381ad315cd72b02a0176f8842fa5b548d99e14f4de46f61bcb17a\"\n",
    "}\n",
    "\n",
    "# PARAMETERS\n",
    "params = {\n",
    "    \"start_date\": \"2020-01-01T00:00:00Z\",\n",
    "    \"end_date\": \"2021-12-31T23:59:59Z\"\n",
    "}\n",
    "\n",
    "# GET REQUEST\n",
    "response = requests.get(url, headers=headers, params=params)\n",
    "\n",
    "# CORRECTNESS CHECKING AND JSON\n",
    "if response.status_code == 200:\n",
    "    # Load the JSON response\n",
    "    data = response.json()\n",
    "    \n",
    "    # Inspect the structure of the JSON to find where the relevant data is stored\n",
    "    # Let's assume the data we want is in data['indicator']['values']\n",
    "    indicator_data = data.get('indicator', {}).get('values', [])\n",
    "    \n",
    "    # Check if there is data\n",
    "    if indicator_data:\n",
    "        # Convert the list of dictionaries to a DataFrame\n",
    "        df_forecast = pd.DataFrame(indicator_data)\n",
    "        \n",
    "        # Display the DataFrame\n",
    "        display(df_forecast)\n",
    "    else:\n",
    "        print(\"No data available for the specified time period.\")\n",
    "else:\n",
    "    print(f\"Error: Unable to fetch data. Status code {response.status_code}\")"
   ]
  },
  {
   "cell_type": "markdown",
   "metadata": {},
   "source": [
    "Given that we can't access the data, we will use the same data from indicator 460, and later we will multiply the values by a random number between 0 and 2 to obtain different values for the next step of tranforming the data."
   ]
  },
  {
   "cell_type": "code",
   "execution_count": 10,
   "metadata": {},
   "outputs": [],
   "source": [
    "# Copy our df_frorecast\n",
    "df_nuclear = df_forecast.copy()"
   ]
  },
  {
   "cell_type": "markdown",
   "metadata": {},
   "source": [
    "### TRANSFORM"
   ]
  },
  {
   "cell_type": "markdown",
   "metadata": {},
   "source": [
    "Transform these three time series into a pandas DataFrame with hourly granularity and the following column structure:\n",
    "\n",
    "    • ”datetime”, format: ”yyyy-mm-dd HH:MM:SS”\n",
    "    • ”demand forecast”: values of the time series for id 460\n",
    "    • ”demand real”: values of the time series for id 1293\n",
    "    • ”nuclear power availability”: values of the time series for id 474\n",
    "    • ”error demand forecast”: the error between the forecast of the demand and actual demand\n",
    "    • ”error demand forecast avg 24H”: average of the error between forecast demand and actual demand for the last 24 hours\n",
    "    • ”error demand forecast avg 12H”: average of the error between forecast demand and actual demand for the last 12 hours\n",
    "    • ”demand real lag 1D”: the value of the real demand for the same hour on the previous day\n",
    "    • ”demand forecast lag 1D”: the value of the forecast demand for the same hour in the previous day\n",
    "    • ”nuclear power availability avg 24H”: average of the nuclear power availability for the last 24 hours\n",
    "    • ”nuclear power availability avg 12H”: average of the nuclear power availability for the last 12 hours\n",
    "\n",
    "Save the DataFrame as a csv file (yourname etl.csv)."
   ]
  },
  {
   "cell_type": "markdown",
   "metadata": {},
   "source": [
    "There is randomness, every time we run the code the random numbers will be different. If we need reproducibility, we can set a seed for the random number generator with *np.random.seed(seed_number)*."
   ]
  },
  {
   "cell_type": "code",
   "execution_count": 11,
   "metadata": {},
   "outputs": [],
   "source": [
    "# FIx the seed for reproducibility\n",
    "np.random.seed(24)"
   ]
  },
  {
   "cell_type": "markdown",
   "metadata": {},
   "source": [
    "First, we will transform *df_real* and *df_nuclear* to make them different from *df_forecast*, by multiplying each of their values by a random number between 0 and 2."
   ]
  },
  {
   "cell_type": "code",
   "execution_count": 12,
   "metadata": {},
   "outputs": [],
   "source": [
    "# Generate random numbers between 0 and 2 for each row\n",
    "random_factors1 = np.random.uniform(0, 2, size=len(df_forecast))\n",
    "random_factors2 = np.random.uniform(0, 2, size=len(df_forecast))\n",
    "\n",
    "# Multiply the 'values' column in the copied DataFrames by the random numbers\n",
    "df_real['value'] *= random_factors1\n",
    "df_nuclear['value'] *= random_factors2"
   ]
  },
  {
   "cell_type": "markdown",
   "metadata": {},
   "source": [
    "#### Datetime changes"
   ]
  },
  {
   "cell_type": "code",
   "execution_count": 13,
   "metadata": {},
   "outputs": [
    {
     "name": "stdout",
     "output_type": "stream",
     "text": [
      "object\n"
     ]
    }
   ],
   "source": [
    "# Check data type after conversion\n",
    "print(df_forecast['datetime'].dtypes)\n"
   ]
  },
  {
   "cell_type": "code",
   "execution_count": 14,
   "metadata": {},
   "outputs": [],
   "source": [
    "# Format 'datetime' column\n",
    "df_forecast['datetime'] = pd.to_datetime(df_forecast['datetime'], format='%Y-%m-%dT%H:%M:%S.%f%z', utc=True, errors='coerce').dt.tz_localize(None)\n",
    "df_real['datetime'] = pd.to_datetime(df_real['datetime'], format='%Y-%m-%dT%H:%M:%S.%f%z', utc=True, errors='coerce').dt.tz_localize(None)\n",
    "df_nuclear['datetime'] = pd.to_datetime(df_nuclear['datetime'], format='%Y-%m-%dT%H:%M:%S.%f%z', utc=True, errors='coerce').dt.tz_localize(None)"
   ]
  },
  {
   "cell_type": "markdown",
   "metadata": {},
   "source": [
    "We see that in the original df the record began at UTC+1 and at 01:00:00, and in the new one it begins without taking into account UTC and at 00:00:00. If it were necessary to change it to add an hour, it could be done."
   ]
  },
  {
   "cell_type": "markdown",
   "metadata": {},
   "source": [
    "#### Rename columns"
   ]
  },
  {
   "cell_type": "code",
   "execution_count": 15,
   "metadata": {},
   "outputs": [],
   "source": [
    "# Rename the 'value' column in each DataFrame with the appropriate name\n",
    "df_forecast = df_forecast.rename(columns={'value': 'demand_forecast'})\n",
    "df_real = df_real.rename(columns={'value': 'demand_real'})\n",
    "df_nuclear = df_nuclear.rename(columns={'value': 'nuclear_power_availability'})"
   ]
  },
  {
   "cell_type": "markdown",
   "metadata": {},
   "source": [
    "#### Merge dataframes"
   ]
  },
  {
   "cell_type": "markdown",
   "metadata": {},
   "source": [
    "To be able to calculate means and errors we need to merge all the data into one dataframe to make it easier to acces all the data at once."
   ]
  },
  {
   "cell_type": "code",
   "execution_count": 16,
   "metadata": {},
   "outputs": [],
   "source": [
    "# Merge the DataFrames into one based on 'datetime'\n",
    "df_merged = pd.merge(df_forecast[['datetime', 'demand_forecast']], df_real[['datetime', 'demand_real']], on='datetime')\n",
    "df_merged = pd.merge(df_merged, df_nuclear[['datetime', 'nuclear_power_availability']], on='datetime')"
   ]
  },
  {
   "cell_type": "markdown",
   "metadata": {},
   "source": [
    "#### Error demand"
   ]
  },
  {
   "cell_type": "code",
   "execution_count": 17,
   "metadata": {},
   "outputs": [],
   "source": [
    "# Calculate the error in the demand\n",
    "df_merged['error_demand_forecast'] = df_merged['demand_forecast'] - df_merged['demand_real']"
   ]
  },
  {
   "cell_type": "code",
   "execution_count": 18,
   "metadata": {},
   "outputs": [],
   "source": [
    "# Calculate 24h and 12h moving averages for the error\n",
    "df_merged['error_demand_forecast_avg_24H'] = df_merged['error_demand_forecast'].rolling(window=24, min_periods=1).mean()\n",
    "df_merged['error_demand_forecast_avg_12H'] = df_merged['error_demand_forecast'].rolling(window=12, min_periods=1).mean()"
   ]
  },
  {
   "cell_type": "markdown",
   "metadata": {},
   "source": [
    "Calculating moving averages in the first rows can result in *NaN* because the calculation window (for example, 24 hours 0 12 hours) cannot be completed if there is not enough previous data.\n",
    "\n",
    "In Pandas, the rolling function has a parameter called *min_periods* that allows us to define the minimum number of observations necessary for the value of the moving average to be calculated. If the number of observations is less than *min_periods*, pandas will calculate the moving average using only the available values ​​instead of returning *NaN*."
   ]
  },
  {
   "cell_type": "markdown",
   "metadata": {},
   "source": [
    "Another alternative would be filler methods. We would consider *fillna(method='bfill')*, which fills the NaN with the first valid value available after the *NaN*, since we assume that we are interested in knowing the average error in that time slot.\n",
    "If we prefer this the code would be the following:"
   ]
  },
  {
   "cell_type": "code",
   "execution_count": 19,
   "metadata": {},
   "outputs": [],
   "source": [
    "#df_merged['error_demand_forecast_avg_24H'] = df_merged['error_demand_forecast_avg_24H'].fillna(method='bfill')\n",
    "#df_merged['error_demand_forecast_avg_12H'] = df_merged['error_demand_forecast_avg_12H'].fillna(method='bfill')"
   ]
  },
  {
   "cell_type": "markdown",
   "metadata": {},
   "source": [
    "#### 1D lag"
   ]
  },
  {
   "cell_type": "code",
   "execution_count": 20,
   "metadata": {},
   "outputs": [],
   "source": [
    "# Calculate real and forecast demand values ​​with a delay of 1 day\n",
    "df_merged['demand_real_lag_1D'] = df_merged['demand_real'].shift(24).shift(24).fillna(0, limit=24)\n",
    "df_merged['demand_forecast_lag_1D'] = df_merged['demand_forecast'].shift(24).shift(24).fillna(0, limit=24)"
   ]
  },
  {
   "cell_type": "markdown",
   "metadata": {},
   "source": [
    "Again, the first values ​​will appear with *NaN* because there is no previous data for the calculation. As we assume that a numerical value is better than a *NaN*, we choose to fill these values ​​with 0, but if *NaN*s are preferred, we would only have to eliminate *.shift(24).fillna(0, limit=24)* from the code."
   ]
  },
  {
   "cell_type": "markdown",
   "metadata": {},
   "source": [
    "#### Nuclear averages"
   ]
  },
  {
   "cell_type": "code",
   "execution_count": 21,
   "metadata": {},
   "outputs": [],
   "source": [
    "# Calculate 24H and 12H moving averages for nuclear power availability\n",
    "df_merged['nuclear_power_availability_avg_24H'] = df_merged['nuclear_power_availability'].rolling(window=24, min_periods=1).mean()\n",
    "df_merged['nuclear_power_availability_avg_12H'] = df_merged['nuclear_power_availability'].rolling(window=12, min_periods=1).mean()"
   ]
  },
  {
   "cell_type": "markdown",
   "metadata": {},
   "source": [
    "### SHOW AND EXPORT"
   ]
  },
  {
   "cell_type": "code",
   "execution_count": 22,
   "metadata": {},
   "outputs": [
    {
     "data": {
      "text/html": [
       "<div>\n",
       "<style scoped>\n",
       "    .dataframe tbody tr th:only-of-type {\n",
       "        vertical-align: middle;\n",
       "    }\n",
       "\n",
       "    .dataframe tbody tr th {\n",
       "        vertical-align: top;\n",
       "    }\n",
       "\n",
       "    .dataframe thead th {\n",
       "        text-align: right;\n",
       "    }\n",
       "</style>\n",
       "<table border=\"1\" class=\"dataframe\">\n",
       "  <thead>\n",
       "    <tr style=\"text-align: right;\">\n",
       "      <th></th>\n",
       "      <th>datetime</th>\n",
       "      <th>demand_forecast</th>\n",
       "      <th>demand_real</th>\n",
       "      <th>nuclear_power_availability</th>\n",
       "      <th>error_demand_forecast</th>\n",
       "      <th>error_demand_forecast_avg_24H</th>\n",
       "      <th>error_demand_forecast_avg_12H</th>\n",
       "      <th>demand_real_lag_1D</th>\n",
       "      <th>demand_forecast_lag_1D</th>\n",
       "      <th>nuclear_power_availability_avg_24H</th>\n",
       "      <th>nuclear_power_availability_avg_12H</th>\n",
       "    </tr>\n",
       "  </thead>\n",
       "  <tbody>\n",
       "    <tr>\n",
       "      <th>0</th>\n",
       "      <td>2020-01-01 00:00:00</td>\n",
       "      <td>22519.0</td>\n",
       "      <td>43237.259308</td>\n",
       "      <td>4762.944652</td>\n",
       "      <td>-20718.259308</td>\n",
       "      <td>-20718.259308</td>\n",
       "      <td>-20718.259308</td>\n",
       "      <td>0.000000</td>\n",
       "      <td>0.0</td>\n",
       "      <td>4762.944652</td>\n",
       "      <td>4762.944652</td>\n",
       "    </tr>\n",
       "    <tr>\n",
       "      <th>1</th>\n",
       "      <td>2020-01-01 01:00:00</td>\n",
       "      <td>21222.0</td>\n",
       "      <td>29690.089448</td>\n",
       "      <td>25142.133396</td>\n",
       "      <td>-8468.089448</td>\n",
       "      <td>-14593.174378</td>\n",
       "      <td>-14593.174378</td>\n",
       "      <td>0.000000</td>\n",
       "      <td>0.0</td>\n",
       "      <td>14952.539024</td>\n",
       "      <td>14952.539024</td>\n",
       "    </tr>\n",
       "    <tr>\n",
       "      <th>2</th>\n",
       "      <td>2020-01-01 02:00:00</td>\n",
       "      <td>19900.0</td>\n",
       "      <td>39794.718246</td>\n",
       "      <td>27050.834644</td>\n",
       "      <td>-19894.718246</td>\n",
       "      <td>-16360.355667</td>\n",
       "      <td>-16360.355667</td>\n",
       "      <td>0.000000</td>\n",
       "      <td>0.0</td>\n",
       "      <td>18985.304231</td>\n",
       "      <td>18985.304231</td>\n",
       "    </tr>\n",
       "    <tr>\n",
       "      <th>3</th>\n",
       "      <td>2020-01-01 03:00:00</td>\n",
       "      <td>18998.0</td>\n",
       "      <td>8361.677123</td>\n",
       "      <td>3842.098642</td>\n",
       "      <td>10636.322877</td>\n",
       "      <td>-9611.186031</td>\n",
       "      <td>-9611.186031</td>\n",
       "      <td>0.000000</td>\n",
       "      <td>0.0</td>\n",
       "      <td>15199.502834</td>\n",
       "      <td>15199.502834</td>\n",
       "    </tr>\n",
       "    <tr>\n",
       "      <th>4</th>\n",
       "      <td>2020-01-01 04:00:00</td>\n",
       "      <td>18849.0</td>\n",
       "      <td>13611.102432</td>\n",
       "      <td>32214.272026</td>\n",
       "      <td>5237.897568</td>\n",
       "      <td>-6641.369311</td>\n",
       "      <td>-6641.369311</td>\n",
       "      <td>0.000000</td>\n",
       "      <td>0.0</td>\n",
       "      <td>18602.456672</td>\n",
       "      <td>18602.456672</td>\n",
       "    </tr>\n",
       "    <tr>\n",
       "      <th>...</th>\n",
       "      <td>...</td>\n",
       "      <td>...</td>\n",
       "      <td>...</td>\n",
       "      <td>...</td>\n",
       "      <td>...</td>\n",
       "      <td>...</td>\n",
       "      <td>...</td>\n",
       "      <td>...</td>\n",
       "      <td>...</td>\n",
       "      <td>...</td>\n",
       "      <td>...</td>\n",
       "    </tr>\n",
       "    <tr>\n",
       "      <th>17539</th>\n",
       "      <td>2021-12-31 19:00:00</td>\n",
       "      <td>27283.0</td>\n",
       "      <td>16669.564063</td>\n",
       "      <td>52622.449850</td>\n",
       "      <td>10613.435937</td>\n",
       "      <td>-8.824251</td>\n",
       "      <td>1190.259986</td>\n",
       "      <td>59398.574837</td>\n",
       "      <td>29776.0</td>\n",
       "      <td>27584.080565</td>\n",
       "      <td>29587.690009</td>\n",
       "    </tr>\n",
       "    <tr>\n",
       "      <th>17540</th>\n",
       "      <td>2021-12-31 20:00:00</td>\n",
       "      <td>25723.0</td>\n",
       "      <td>45434.464669</td>\n",
       "      <td>7574.170695</td>\n",
       "      <td>-19711.464669</td>\n",
       "      <td>-1158.903062</td>\n",
       "      <td>-1521.899870</td>\n",
       "      <td>29647.249428</td>\n",
       "      <td>29313.0</td>\n",
       "      <td>26526.607183</td>\n",
       "      <td>27781.672210</td>\n",
       "    </tr>\n",
       "    <tr>\n",
       "      <th>17541</th>\n",
       "      <td>2021-12-31 21:00:00</td>\n",
       "      <td>23338.0</td>\n",
       "      <td>41999.135274</td>\n",
       "      <td>22298.652254</td>\n",
       "      <td>-18661.135274</td>\n",
       "      <td>-2972.532941</td>\n",
       "      <td>-4842.935952</td>\n",
       "      <td>46441.408938</td>\n",
       "      <td>27005.0</td>\n",
       "      <td>26029.280193</td>\n",
       "      <td>26875.824121</td>\n",
       "    </tr>\n",
       "    <tr>\n",
       "      <th>17542</th>\n",
       "      <td>2021-12-31 22:00:00</td>\n",
       "      <td>22102.0</td>\n",
       "      <td>21202.360261</td>\n",
       "      <td>1406.362327</td>\n",
       "      <td>899.639739</td>\n",
       "      <td>-2379.043887</td>\n",
       "      <td>-5690.920188</td>\n",
       "      <td>34256.758462</td>\n",
       "      <td>24606.0</td>\n",
       "      <td>24668.402764</td>\n",
       "      <td>24354.032949</td>\n",
       "    </tr>\n",
       "    <tr>\n",
       "      <th>17543</th>\n",
       "      <td>2021-12-31 23:00:00</td>\n",
       "      <td>22339.0</td>\n",
       "      <td>13954.164627</td>\n",
       "      <td>39582.429324</td>\n",
       "      <td>8384.835373</td>\n",
       "      <td>-1466.959178</td>\n",
       "      <td>-3999.700371</td>\n",
       "      <td>26693.923291</td>\n",
       "      <td>23263.0</td>\n",
       "      <td>24486.165629</td>\n",
       "      <td>25597.129027</td>\n",
       "    </tr>\n",
       "  </tbody>\n",
       "</table>\n",
       "<p>17544 rows × 11 columns</p>\n",
       "</div>"
      ],
      "text/plain": [
       "                 datetime  demand_forecast   demand_real  \\\n",
       "0     2020-01-01 00:00:00          22519.0  43237.259308   \n",
       "1     2020-01-01 01:00:00          21222.0  29690.089448   \n",
       "2     2020-01-01 02:00:00          19900.0  39794.718246   \n",
       "3     2020-01-01 03:00:00          18998.0   8361.677123   \n",
       "4     2020-01-01 04:00:00          18849.0  13611.102432   \n",
       "...                   ...              ...           ...   \n",
       "17539 2021-12-31 19:00:00          27283.0  16669.564063   \n",
       "17540 2021-12-31 20:00:00          25723.0  45434.464669   \n",
       "17541 2021-12-31 21:00:00          23338.0  41999.135274   \n",
       "17542 2021-12-31 22:00:00          22102.0  21202.360261   \n",
       "17543 2021-12-31 23:00:00          22339.0  13954.164627   \n",
       "\n",
       "       nuclear_power_availability  error_demand_forecast  \\\n",
       "0                     4762.944652          -20718.259308   \n",
       "1                    25142.133396           -8468.089448   \n",
       "2                    27050.834644          -19894.718246   \n",
       "3                     3842.098642           10636.322877   \n",
       "4                    32214.272026            5237.897568   \n",
       "...                           ...                    ...   \n",
       "17539                52622.449850           10613.435937   \n",
       "17540                 7574.170695          -19711.464669   \n",
       "17541                22298.652254          -18661.135274   \n",
       "17542                 1406.362327             899.639739   \n",
       "17543                39582.429324            8384.835373   \n",
       "\n",
       "       error_demand_forecast_avg_24H  error_demand_forecast_avg_12H  \\\n",
       "0                      -20718.259308                  -20718.259308   \n",
       "1                      -14593.174378                  -14593.174378   \n",
       "2                      -16360.355667                  -16360.355667   \n",
       "3                       -9611.186031                   -9611.186031   \n",
       "4                       -6641.369311                   -6641.369311   \n",
       "...                              ...                            ...   \n",
       "17539                      -8.824251                    1190.259986   \n",
       "17540                   -1158.903062                   -1521.899870   \n",
       "17541                   -2972.532941                   -4842.935952   \n",
       "17542                   -2379.043887                   -5690.920188   \n",
       "17543                   -1466.959178                   -3999.700371   \n",
       "\n",
       "       demand_real_lag_1D  demand_forecast_lag_1D  \\\n",
       "0                0.000000                     0.0   \n",
       "1                0.000000                     0.0   \n",
       "2                0.000000                     0.0   \n",
       "3                0.000000                     0.0   \n",
       "4                0.000000                     0.0   \n",
       "...                   ...                     ...   \n",
       "17539        59398.574837                 29776.0   \n",
       "17540        29647.249428                 29313.0   \n",
       "17541        46441.408938                 27005.0   \n",
       "17542        34256.758462                 24606.0   \n",
       "17543        26693.923291                 23263.0   \n",
       "\n",
       "       nuclear_power_availability_avg_24H  nuclear_power_availability_avg_12H  \n",
       "0                             4762.944652                         4762.944652  \n",
       "1                            14952.539024                        14952.539024  \n",
       "2                            18985.304231                        18985.304231  \n",
       "3                            15199.502834                        15199.502834  \n",
       "4                            18602.456672                        18602.456672  \n",
       "...                                   ...                                 ...  \n",
       "17539                        27584.080565                        29587.690009  \n",
       "17540                        26526.607183                        27781.672210  \n",
       "17541                        26029.280193                        26875.824121  \n",
       "17542                        24668.402764                        24354.032949  \n",
       "17543                        24486.165629                        25597.129027  \n",
       "\n",
       "[17544 rows x 11 columns]"
      ]
     },
     "execution_count": 22,
     "metadata": {},
     "output_type": "execute_result"
    }
   ],
   "source": [
    "# Show the final df\n",
    "df_merged"
   ]
  },
  {
   "cell_type": "code",
   "execution_count": 23,
   "metadata": {},
   "outputs": [],
   "source": [
    "# Save as a *.csv* archive\n",
    "df_merged.to_csv('regina_hergueta_etl.csv', index=False)"
   ]
  }
 ],
 "metadata": {
  "kernelspec": {
   "display_name": "Python 3",
   "language": "python",
   "name": "python3"
  },
  "language_info": {
   "codemirror_mode": {
    "name": "ipython",
    "version": 3
   },
   "file_extension": ".py",
   "mimetype": "text/x-python",
   "name": "python",
   "nbconvert_exporter": "python",
   "pygments_lexer": "ipython3",
   "version": "3.11.0"
  }
 },
 "nbformat": 4,
 "nbformat_minor": 2
}
